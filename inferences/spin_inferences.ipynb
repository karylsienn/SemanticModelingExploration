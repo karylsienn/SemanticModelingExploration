{
 "cells": [
  {
   "cell_type": "code",
   "execution_count": 1,
   "metadata": {
    "collapsed": true
   },
   "outputs": [
    {
     "name": "stdout",
     "output_type": "stream",
     "text": [
      "java\n"
     ]
    },
    {
     "name": "stderr",
     "output_type": "stream",
     "text": [
      "* Owlready2 * Warning: optimized Cython parser module 'owlready2_optimized' is not available, defaulting to slower Python implementation\n"
     ]
    }
   ],
   "source": [
    "import owlready2 as owl\n",
    "# Java should be already recognized\n",
    "print(owl.JAVA_EXE)\n"
   ]
  },
  {
   "cell_type": "markdown",
   "source": [
    "Load the ontology about the goemetrical figures and see if the attached SPIN rules are able recognized during inference."
   ],
   "metadata": {
    "collapsed": false
   }
  },
  {
   "cell_type": "code",
   "execution_count": 2,
   "outputs": [
    {
     "name": "stdout",
     "output_type": "stream",
     "text": [
      "Squares: \n",
      "--- geoSWRL.square1; name: square1, height: [12.0], width: [12.0], area: []\n",
      "Rectangles:\n",
      "--- geoSWRL.rectangle1; name: rectangle1, height: [12.0], width: [12.0], area: []\n",
      "--- geoSWRL.rectangle2; name: rectangle2, height: [13.0], width: [12.0], area: []\n"
     ]
    }
   ],
   "source": [
    "onto = owl.get_ontology(\"../Ontologies/SPIN/geoSWRL.rdf\").load()\n",
    "prefixes = \"\"\"\n",
    "    PREFIX : <http://www.semanticweb.org/ezzkn/ontologies/2023/1/geoSWRL#>\\n\n",
    "\"\"\"\n",
    "\n",
    "# SPARQL query to get every instance of Square.\n",
    "rectangle_query = prefixes + \"\"\"\n",
    "    SELECT * WHERE {\n",
    "        ?object rdf:type :Rectangle\n",
    "    }\n",
    "\"\"\"\n",
    "\n",
    "square_query = prefixes + \"\"\"\n",
    "    SELECT * WHERE {\n",
    "        ?object rdf:type :Square\n",
    "    }\n",
    "\"\"\"\n",
    "\n",
    "with onto:\n",
    "    world = onto.world\n",
    "    rectangles = world.sparql(rectangle_query)\n",
    "    squares = world.sparql(square_query)\n",
    "\n",
    "    print(\"Squares: \")\n",
    "    for square in squares:\n",
    "        sq = square[0]\n",
    "        print(f\"--- {sq}; name: {sq.name}, height: {sq.height}, width: {sq.width}, area: {sq.area}\")\n",
    "\n",
    "    print(\"Rectangles:\")\n",
    "    for rectangle in rectangles:\n",
    "        rect = rectangle[0]\n",
    "        print(f\"--- {rect}; name: {rect.name}, height: {rect.height}, width: {rect.width}, area: {rect.area}\")"
   ],
   "metadata": {
    "collapsed": false
   }
  },
  {
   "cell_type": "markdown",
   "source": [
    "Now, I will create the SWRL rules, to calculate the area and also to infer that whenever we have a rectangle whose height and width are equal then the Rectangle is in fact a Square."
   ],
   "metadata": {
    "collapsed": false
   }
  },
  {
   "cell_type": "code",
   "execution_count": 3,
   "outputs": [
    {
     "name": "stdout",
     "output_type": "stream",
     "text": [
      "Rectangle(?p), height(?p, ?h), width(?p, ?w), multiply(?a, ?w, ?h) -> area(?p, ?a)\n",
      "Rectangle(?p), height(?p, ?h), width(?p, ?w), equal(?w, ?h) -> Square(?p)\n",
      "Squares: \n",
      "--- geoSWRL.rectangle1; name: rectangle1, height: [12.0], width: [12.0], area: [144]\n",
      "--- geoSWRL.square1; name: square1, height: [12.0], width: [12.0], area: [144]\n",
      "Rectangles:\n",
      "--- geoSWRL.rectangle1; name: rectangle1, height: [12.0], width: [12.0], area: [144]\n",
      "--- geoSWRL.rectangle2; name: rectangle2, height: [13.0], width: [12.0], area: [156]\n"
     ]
    }
   ],
   "source": [
    "rules = [\n",
    "    \"\"\"Rectangle(?p) ^ height(?p, ?h) ^ width(?p, ?w) ^ equal(?w, ?h) -> Square(?p)\"\"\",\n",
    "    \"\"\"Rectangle(?p) ^ height(?p, ?h) ^ width(?p, ?w) ^ multiply(?a, ?w, ?h) -> area(?p, ?a)\"\"\"\n",
    "]\n",
    "\n",
    "with onto:\n",
    "    for rule in rules:\n",
    "        owl.Imp().set_as_rule(rule)\n",
    "\n",
    "    # Apply rules with a reasoner. --- (disable the debug)\n",
    "    owl.sync_reasoner_pellet(infer_property_values=True, infer_data_property_values=True, debug=0)\n",
    "\n",
    "    for rule in onto.rules():\n",
    "        print(str(rule))\n",
    "\n",
    "with onto:\n",
    "    world = onto.world\n",
    "    rectangles = world.sparql(rectangle_query)\n",
    "    squares = world.sparql(square_query)\n",
    "\n",
    "    print(\"Squares: \")\n",
    "    for square in squares:\n",
    "        sq = square[0]\n",
    "        print(f\"--- {sq}; name: {sq.name}, height: {sq.height}, width: {sq.width}, area: {sq.area}\")\n",
    "\n",
    "    print(\"Rectangles:\")\n",
    "    for rectangle in rectangles:\n",
    "        rect = rectangle[0]\n",
    "        print(f\"--- {rect}; name: {rect.name}, height: {rect.height}, width: {rect.width}, area: {rect.area}\")"
   ],
   "metadata": {
    "collapsed": false
   }
  },
  {
   "cell_type": "code",
   "execution_count": null,
   "outputs": [],
   "source": [],
   "metadata": {
    "collapsed": false
   }
  }
 ],
 "metadata": {
  "kernelspec": {
   "display_name": "Python 3",
   "language": "python",
   "name": "python3"
  },
  "language_info": {
   "codemirror_mode": {
    "name": "ipython",
    "version": 2
   },
   "file_extension": ".py",
   "mimetype": "text/x-python",
   "name": "python",
   "nbconvert_exporter": "python",
   "pygments_lexer": "ipython2",
   "version": "2.7.6"
  }
 },
 "nbformat": 4,
 "nbformat_minor": 0
}
